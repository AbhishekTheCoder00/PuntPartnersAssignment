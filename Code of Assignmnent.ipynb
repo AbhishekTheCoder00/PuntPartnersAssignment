{
 "cells": [
  {
   "cell_type": "markdown",
   "id": "fe9bbc0f-1de6-4451-9d76-3c48cb9f7e7a",
   "metadata": {},
   "source": [
    "Data Extraction"
   ]
  },
  {
   "cell_type": "code",
   "execution_count": 1,
   "id": "1b5cb29c-674f-43ec-95fd-4deda8d9d2c4",
   "metadata": {
    "tags": []
   },
   "outputs": [],
   "source": [
    "import pandas as pd"
   ]
  },
  {
   "cell_type": "code",
   "execution_count": 12,
   "id": "332f3605-dbe7-400f-b6b1-ae2526e42fb7",
   "metadata": {
    "tags": []
   },
   "outputs": [],
   "source": [
    "csv_file = 'E:\\\\BIG DATA BY ineuron\\\\PuntPartenerTestAssignment\\\\ASSIGNMENT\\\\Updated_sales_data.csv'"
   ]
  },
  {
   "cell_type": "code",
   "execution_count": 13,
   "id": "b922257f-7956-4cbe-bda2-9afaa5c5e239",
   "metadata": {
    "tags": []
   },
   "outputs": [],
   "source": [
    "df = pd.read_csv(csv_file)"
   ]
  },
  {
   "cell_type": "code",
   "execution_count": 14,
   "id": "b1caa3a8-8c33-47bb-9b92-fdc743550ed6",
   "metadata": {
    "tags": []
   },
   "outputs": [
    {
     "data": {
      "text/html": [
       "<div>\n",
       "<style scoped>\n",
       "    .dataframe tbody tr th:only-of-type {\n",
       "        vertical-align: middle;\n",
       "    }\n",
       "\n",
       "    .dataframe tbody tr th {\n",
       "        vertical-align: top;\n",
       "    }\n",
       "\n",
       "    .dataframe thead th {\n",
       "        text-align: right;\n",
       "    }\n",
       "</style>\n",
       "<table border=\"1\" class=\"dataframe\">\n",
       "  <thead>\n",
       "    <tr style=\"text-align: right;\">\n",
       "      <th></th>\n",
       "      <th>Order ID</th>\n",
       "      <th>Product</th>\n",
       "      <th>Quantity Ordered</th>\n",
       "      <th>Price Each</th>\n",
       "      <th>Order Date</th>\n",
       "      <th>Purchase Address</th>\n",
       "    </tr>\n",
       "  </thead>\n",
       "  <tbody>\n",
       "    <tr>\n",
       "      <th>0</th>\n",
       "      <td>176558</td>\n",
       "      <td>USB-C Charging Cable</td>\n",
       "      <td>2</td>\n",
       "      <td>11.95</td>\n",
       "      <td>04/19/19 08:46</td>\n",
       "      <td>917 1st St, Dallas, TX 75001</td>\n",
       "    </tr>\n",
       "    <tr>\n",
       "      <th>1</th>\n",
       "      <td>176559</td>\n",
       "      <td>Bose SoundSport Headphones</td>\n",
       "      <td>1</td>\n",
       "      <td>99.99</td>\n",
       "      <td>04-07-2019 22:30</td>\n",
       "      <td>682 Chestnut St, Boston, MA 02215</td>\n",
       "    </tr>\n",
       "    <tr>\n",
       "      <th>2</th>\n",
       "      <td>176560</td>\n",
       "      <td>Google Phone</td>\n",
       "      <td>1</td>\n",
       "      <td>600</td>\n",
       "      <td>04-12-2019 14:38</td>\n",
       "      <td>669 Spruce St, Los Angeles, CA 90001</td>\n",
       "    </tr>\n",
       "    <tr>\n",
       "      <th>3</th>\n",
       "      <td>176560</td>\n",
       "      <td>Wired Headphones</td>\n",
       "      <td>1</td>\n",
       "      <td>11.99</td>\n",
       "      <td>04-12-2019 14:38</td>\n",
       "      <td>669 Spruce St, Los Angeles, CA 90001</td>\n",
       "    </tr>\n",
       "    <tr>\n",
       "      <th>4</th>\n",
       "      <td>176561</td>\n",
       "      <td>Wired Headphones</td>\n",
       "      <td>1</td>\n",
       "      <td>11.99</td>\n",
       "      <td>04/30/19 09:27</td>\n",
       "      <td>333 8th St, Los Angeles, CA 90001</td>\n",
       "    </tr>\n",
       "  </tbody>\n",
       "</table>\n",
       "</div>"
      ],
      "text/plain": [
       "  Order ID                     Product Quantity Ordered Price Each  \\\n",
       "0   176558        USB-C Charging Cable                2      11.95   \n",
       "1   176559  Bose SoundSport Headphones                1      99.99   \n",
       "2   176560                Google Phone                1        600   \n",
       "3   176560            Wired Headphones                1      11.99   \n",
       "4   176561            Wired Headphones                1      11.99   \n",
       "\n",
       "         Order Date                      Purchase Address  \n",
       "0    04/19/19 08:46          917 1st St, Dallas, TX 75001  \n",
       "1  04-07-2019 22:30     682 Chestnut St, Boston, MA 02215  \n",
       "2  04-12-2019 14:38  669 Spruce St, Los Angeles, CA 90001  \n",
       "3  04-12-2019 14:38  669 Spruce St, Los Angeles, CA 90001  \n",
       "4    04/30/19 09:27     333 8th St, Los Angeles, CA 90001  "
      ]
     },
     "execution_count": 14,
     "metadata": {},
     "output_type": "execute_result"
    }
   ],
   "source": [
    "df.head(5)"
   ]
  },
  {
   "cell_type": "markdown",
   "id": "eb08aff9-e339-449b-96bc-99e7c5d4ef46",
   "metadata": {},
   "source": [
    "Data Transformation"
   ]
  },
  {
   "cell_type": "code",
   "execution_count": 17,
   "id": "5173a4b4-82e1-4822-8f01-e668589886c0",
   "metadata": {
    "tags": []
   },
   "outputs": [],
   "source": [
    "df['Quantity Ordered'] = pd.to_numeric(df['Quantity Ordered'],errors='coerce')"
   ]
  },
  {
   "cell_type": "code",
   "execution_count": 18,
   "id": "ec656de9-64f5-40ea-bc27-e5628fc52a83",
   "metadata": {
    "tags": []
   },
   "outputs": [],
   "source": [
    "df['Price Each'] = pd.to_numeric(df['Price Each'],errors='coerce')"
   ]
  },
  {
   "cell_type": "code",
   "execution_count": 19,
   "id": "97ffdb20-6fb0-4241-9abc-f78568be2ccf",
   "metadata": {
    "tags": []
   },
   "outputs": [],
   "source": [
    "df['total_sales'] = df['Quantity Ordered'] * df['Price Each']"
   ]
  },
  {
   "cell_type": "code",
   "execution_count": 21,
   "id": "0c47a515-d1da-4c52-86f2-0a9fce900d1a",
   "metadata": {
    "tags": []
   },
   "outputs": [],
   "source": [
    "df['Order Date'] = pd.to_datetime(df['Order Date'], format='%m/%d/%y %H:%M', errors='coerce')\n"
   ]
  },
  {
   "cell_type": "code",
   "execution_count": 23,
   "id": "d27a73f6-c295-48fd-9c07-01e79a7c67cd",
   "metadata": {
    "tags": []
   },
   "outputs": [],
   "source": [
    "df['Order Year'] = df['Order Date'].dt.year"
   ]
  },
  {
   "cell_type": "code",
   "execution_count": 24,
   "id": "0d0750ad-bee1-42d4-96b9-71ad5d20e995",
   "metadata": {
    "tags": []
   },
   "outputs": [],
   "source": [
    "df['Order Month'] = df['Order Date'].dt.month"
   ]
  },
  {
   "cell_type": "code",
   "execution_count": 26,
   "id": "550dfcc9-0ba5-4cf1-9a96-cba15d3e7583",
   "metadata": {
    "tags": []
   },
   "outputs": [],
   "source": [
    "product_sales = df.groupby(['Product','Order Year','Order Month'])['total_sales'].sum().reset_index()"
   ]
  },
  {
   "cell_type": "markdown",
   "id": "70b089a4-dda0-4845-905f-756caa485e24",
   "metadata": {},
   "source": [
    "Data Loading"
   ]
  },
  {
   "cell_type": "code",
   "execution_count": 27,
   "id": "f056a630-b2c3-4428-a043-ec689db4c4cb",
   "metadata": {
    "tags": []
   },
   "outputs": [],
   "source": [
    "import sqlite3"
   ]
  },
  {
   "cell_type": "code",
   "execution_count": 28,
   "id": "2717918c-72cd-41cd-81ba-82ab48fc8915",
   "metadata": {
    "tags": []
   },
   "outputs": [],
   "source": [
    "conn = sqlite3.connect('sales_data.db')"
   ]
  },
  {
   "cell_type": "code",
   "execution_count": 29,
   "id": "7cdf3702-6efe-4f44-b3aa-9eb7777335c5",
   "metadata": {
    "tags": []
   },
   "outputs": [
    {
     "data": {
      "text/plain": [
       "38"
      ]
     },
     "execution_count": 29,
     "metadata": {},
     "output_type": "execute_result"
    }
   ],
   "source": [
    "df.to_sql('orders', conn, index=False, if_exists='replace')\n",
    "product_sales.to_sql('product_sales', conn, index=False, if_exists='replace')\n"
   ]
  },
  {
   "cell_type": "code",
   "execution_count": 30,
   "id": "d612426a-5467-4bb9-a0c9-5575a6f29850",
   "metadata": {
    "tags": []
   },
   "outputs": [],
   "source": [
    "conn.commit()\n",
    "conn.close()"
   ]
  },
  {
   "cell_type": "markdown",
   "id": "f734befe-a364-47c5-977e-9c8121b292ec",
   "metadata": {},
   "source": [
    "SQL Queries"
   ]
  },
  {
   "cell_type": "code",
   "execution_count": 31,
   "id": "e6059a61-f5ab-4aae-a689-4a1f961cf5aa",
   "metadata": {
    "tags": []
   },
   "outputs": [],
   "source": [
    "query1 = \"\"\"\n",
    "SELECT product, SUM(total_sales) as total_sales\n",
    "FROM product_sales\n",
    "WHERE order_year = (SELECT MAX(order_year) FROM product_sales)\n",
    "AND order_month >= (SELECT MAX(order_month) FROM product_sales) - 2\n",
    "GROUP BY product;\n",
    "\"\"\""
   ]
  },
  {
   "cell_type": "code",
   "execution_count": 32,
   "id": "4f1cab73-6564-4de5-9c9b-ed1c0387881c",
   "metadata": {
    "tags": []
   },
   "outputs": [],
   "source": [
    "query2 = \"\"\"\n",
    "SELECT product, SUM(total_sales) as total_sales\n",
    "FROM product_sales\n",
    "GROUP BY product\n",
    "ORDER BY total_sales DESC\n",
    "LIMIT 5;\n",
    "\"\"\""
   ]
  },
  {
   "cell_type": "code",
   "execution_count": 33,
   "id": "a2141ed7-1df4-4669-8888-f47600e9dc8d",
   "metadata": {
    "tags": []
   },
   "outputs": [],
   "source": [
    "query3 = \"\"\"\n",
    "SELECT product, AVG(total_sales) as avg_sales\n",
    "FROM product_sales\n",
    "GROUP BY product;\n",
    "\"\"\""
   ]
  },
  {
   "cell_type": "markdown",
   "id": "6470e7c0-e3ea-44ce-9c97-fb7a0b90f34f",
   "metadata": {
    "tags": []
   },
   "source": [
    "Data Validation"
   ]
  },
  {
   "cell_type": "code",
   "execution_count": 44,
   "id": "c92e16d1-406a-4005-87ad-c7349ff9b600",
   "metadata": {
    "tags": []
   },
   "outputs": [],
   "source": [
    "missing_values = df.isnull().sum()\n",
    "if any(missing_values):\n",
    "    pass\n",
    "    # Handle missing values appropriately (e.g., log and/or skip rows)\n",
    "\n",
    "anomalies = df[(df['Quantity Ordered'] < 0) | (df['Price Each'] < 0)]\n",
    "if not anomalies.empty:\n",
    "    pass\n",
    "    # Handle anomalies appropriately (e.g., correct values, log issues)\n",
    "\n",
    "try:\n",
    "    # Code for ETL\n",
    "    pass \n",
    "except FileNotFoundError as e:\n",
    "    print(f\"Error: {e}\")\n",
    "except Exception as e:\n",
    "    print(f\"Error: {e}\")"
   ]
  },
  {
   "cell_type": "code",
   "execution_count": null,
   "id": "8bcaf118-1628-4af3-aae9-b756df9cacdb",
   "metadata": {},
   "outputs": [],
   "source": []
  }
 ],
 "metadata": {
  "kernelspec": {
   "display_name": "Python 3 (ipykernel)",
   "language": "python",
   "name": "python3"
  },
  "language_info": {
   "codemirror_mode": {
    "name": "ipython",
    "version": 3
   },
   "file_extension": ".py",
   "mimetype": "text/x-python",
   "name": "python",
   "nbconvert_exporter": "python",
   "pygments_lexer": "ipython3",
   "version": "3.11.0"
  }
 },
 "nbformat": 4,
 "nbformat_minor": 5
}
